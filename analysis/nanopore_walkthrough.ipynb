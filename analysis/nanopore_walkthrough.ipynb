{
 "cells": [
  {
   "cell_type": "markdown",
   "metadata": {},
   "source": [
    "# Analyzing nanopore sequencing data for AMBIC"
   ]
  },
  {
   "cell_type": "markdown",
   "metadata": {},
   "source": [
    "## Set up\n",
    "Necessary softwares should be installed already in here.  \n",
    "They are described in README.md as well as   \n",
    "I made a snakemake pipeline for ease of use - I will go through each step using commands as well as snakemake."
   ]
  },
  {
   "cell_type": "code",
   "execution_count": 9,
   "metadata": {},
   "outputs": [],
   "source": [
    "# first set working directory\n",
    "workdir=~/Data_tmp\n",
    "codedir=$PWD\n",
    "reference=/mnt/ref/4_0cdhfr_vrc01wtg1m3_dgv.fa\n",
    "reference=/mnt/ref/Cricetulus_griseus_picr.CriGri-PICR.dna.toplevel.nihIgG.fa\n",
    "#reference=/mnt/ref/Cricetulus_griseus_picr.CriGri-PICR.dna.toplevel.fa\n",
    "threads=12\n",
    "sample=CHOK1IgG"
   ]
  },
  {
   "cell_type": "markdown",
   "metadata": {},
   "source": [
    "## Alignment\n",
    "There are two main aligners we use for nanopore analysis : minimap2 and ngmlr\n",
    "### minimap2\n",
    "First make index"
   ]
  },
  {
   "cell_type": "code",
   "execution_count": 10,
   "metadata": {},
   "outputs": [],
   "source": [
    "mmi=${reference%.fa}.map_ont.mmi\n",
    "if [ ! -e $mmi ]; then\n",
    "    minimap2 -x map-ont -d $mmi $reference\n",
    "fi"
   ]
  },
  {
   "cell_type": "code",
   "execution_count": 12,
   "metadata": {},
   "outputs": [
    {
     "name": "stdout",
     "output_type": "stream",
     "text": [
      "-rw-r--r-- 1 jupyter-isac jupyter-isac 5.6G Oct 23 11:59 /mnt/ref/Cricetulus_griseus_picr.CriGri-PICR.dna.toplevel.nihIgG.map_ont.mmi\n"
     ]
    }
   ],
   "source": [
    "ls -lh $mmi"
   ]
  },
  {
   "cell_type": "markdown",
   "metadata": {},
   "source": [
    "Then align"
   ]
  },
  {
   "cell_type": "code",
   "execution_count": 8,
   "metadata": {},
   "outputs": [
    {
     "name": "stdout",
     "output_type": "stream",
     "text": [
      "[M::main::6.110*1.00] loaded/built the index for 1831 target sequence(s)\n",
      "[M::mm_mapopt_update::7.736*1.00] mid_occ = 490\n",
      "[M::mm_idx_stat] kmer size: 15; skip: 10; is_hpc: 0; #seq: 1831\n",
      "[M::mm_idx_stat::8.605*1.00] distinct minimizers: 92926228 (39.14% are singletons); average occurrences: 4.825; average spacing: 5.284\n",
      "[M::worker_pipeline::10.245*1.99] mapped 1559 sequences\n",
      "[M::main] Version: 2.17-r941\n",
      "[M::main] CMD: minimap2 --MD -L -t 12 -a /mnt/ref/Cricetulus_griseus_picr.CriGri-PICR.dna.toplevel.nihIgG.map_ont.mmi /home/jupyter-isac/Data/reads/CHOK1IgG.fastq.gz\n",
      "[M::main] Real time: 10.547 sec; CPU: 20.692 sec; Peak RSS: 6.881 GB\n"
     ]
    }
   ],
   "source": [
    "[ -e bam ]||mkdir bam\n",
    "fq=$workdir/reads/$sample.fastq.gz\n",
    "outpre=$workdir/bam/$sample.minimap2\n",
    "output=$outpre.sorted.bam\n",
    "minimap2 --MD -L -t $threads -a $mmi ${fq} |\\\n",
    "    samtools view -q 20 -b - |\\\n",
    "    samtools sort -T $outpre.sorting -o ${output} &&\\\n",
    "    samtools index ${output}"
   ]
  },
  {
   "cell_type": "markdown",
   "metadata": {},
   "source": [
    "snakemake version :"
   ]
  },
  {
   "cell_type": "code",
   "execution_count": 2,
   "metadata": {},
   "outputs": [
    {
     "name": "stdout",
     "output_type": "stream",
     "text": [
      "\u001b[33mBuilding DAG of jobs...\u001b[0m\n",
      "\u001b[33mUsing shell: /bin/bash\u001b[0m\n",
      "\u001b[33mProvided cores: 1\u001b[0m\n",
      "\u001b[33mRules claiming more threads will be scaled down.\u001b[0m\n",
      "\u001b[33mJob counts:\n",
      "\tcount\tjobs\n",
      "\t1\tminimap2_align\n",
      "\t1\u001b[0m\n",
      "\u001b[32m\u001b[0m\n",
      "\u001b[32m[Sun Oct 27 02:41:48 2019]\u001b[0m\n",
      "\u001b[32mrule minimap2_align:\n",
      "    input: /mnt/ref/Cricetulus_griseus_picr.CriGri-PICR.dna.toplevel.nihIgG.map_ont.mmi, /home/jupyter-isac/Data/reads/CHOK1IgG.fastq.gz\n",
      "    output: /home/jupyter-isac/Data/bam/CHOK1IgG.minimap2.sorted.bam\n",
      "    log: /home/jupyter-isac/Data/bam/CHOK1IgG.minimap2.align.log\n",
      "    jobid: 0\n",
      "    wildcards: dir=/home/jupyter-isac/Data, sample=CHOK1IgG\u001b[0m\n",
      "\u001b[32m\u001b[0m\n",
      "\u001b[32m[Sun Oct 27 02:42:19 2019]\u001b[0m\n",
      "\u001b[32mFinished job 0.\u001b[0m\n",
      "\u001b[32m1 of 1 steps (100%) done\u001b[0m\n",
      "\u001b[33mComplete log: /home/jupyter-isac/ambic-epigenome-dev/.snakemake/log/2019-10-27T024147.556006.snakemake.log\u001b[0m\n"
     ]
    }
   ],
   "source": [
    "rm $workdir/bam/*\n",
    "output=$workdir/bam/$sample.minimap2.sorted.bam\n",
    "snakemake $output"
   ]
  },
  {
   "cell_type": "code",
   "execution_count": 7,
   "metadata": {},
   "outputs": [
    {
     "name": "stdout",
     "output_type": "stream",
     "text": [
      "total 18M\n",
      "-rw-r--r-- 1 jupyter-isac jupyter-isac  642 Oct 27 02:42 CHOK1IgG.minimap2.align.log\n",
      "-rw-r--r-- 1 jupyter-isac jupyter-isac  17M Oct 27 02:42 CHOK1IgG.minimap2.sorted.bam\n",
      "-rw-r--r-- 1 jupyter-isac jupyter-isac 680K Oct 27 02:42 CHOK1IgG.minimap2.sorted.bam.bai\n"
     ]
    }
   ],
   "source": [
    "ls -lh $workdir/bam"
   ]
  },
  {
   "cell_type": "markdown",
   "metadata": {},
   "source": [
    "## Variant detection\n",
    "Sniffles is used to call structural variations.  \n",
    "#### first round of calls"
   ]
  },
  {
   "cell_type": "code",
   "execution_count": 4,
   "metadata": {},
   "outputs": [
    {
     "name": "stdout",
     "output_type": "stream",
     "text": [
      "Estimating parameter...\n",
      "\tMax dist between aln events: 5\n",
      "\tMax diff in window: 56\n",
      "\tMin score ratio: 2\n",
      "\tAvg DEL ratio: 0.0755474\n",
      "\tAvg INS ratio: 0.0434565\n",
      "Start parsing... RAZU01000074.1\n",
      "\tSwitch Chr RAZU01000200.1\n",
      "\tSwitch Chr RAZU01000234.1\n",
      "\tSwitch Chr RAZU01000162.1\n",
      "\tSwitch Chr RAZU01000050.1\n",
      "\tSwitch Chr RAZU01000096.1\n",
      "\tSwitch Chr RAZU01000102.1\n",
      "\tSwitch Chr RAZU01001831.1\n",
      "\tSwitch Chr RAZU01000073.1\n",
      "\tSwitch Chr RAZU01000007.1\n",
      "\tSwitch Chr RAZU01000230.1\n",
      "\tSwitch Chr RAZU01000060.1\n",
      "\tSwitch Chr RAZU01000012.1\n",
      "\tSwitch Chr RAZU01000152.1\n",
      "\tSwitch Chr RAZU01000120.1\n",
      "\tSwitch Chr RAZU01000121.1\n",
      "\tSwitch Chr RAZU01000159.1\n",
      "\tSwitch Chr RAZU01000085.1\n",
      "\tSwitch Chr RAZU01001824.1\n",
      "\tSwitch Chr RAZU01000241.1\n",
      "\tSwitch Chr RAZU01000133.1\n",
      "\tSwitch Chr RAZU01000039.1\n",
      "\tSwitch Chr RAZU01000087.1\n",
      "\tSwitch Chr RAZU01000135.1\n",
      "\tSwitch Chr RAZU01000137.1\n",
      "\tSwitch Chr RAZU01000089.1\n",
      "\tSwitch Chr RAZU01000044.1\n",
      "\tSwitch Chr RAZU01000090.1\n",
      "\tSwitch Chr RAZU01000045.1\n",
      "\tSwitch Chr RAZU01000140.1\n",
      "\tSwitch Chr RAZU01000047.1\n",
      "\tSwitch Chr RAZU01000141.1\n",
      "\tSwitch Chr RAZU01000001.1\n",
      "\tSwitch Chr RAZU01000092.1\n",
      "\tSwitch Chr RAZU01000142.1\n",
      "\tSwitch Chr RAZU01000094.1\n",
      "\tSwitch Chr RAZU01000002.1\n",
      "\tSwitch Chr RAZU01000097.1\n",
      "\tSwitch Chr RAZU01000164.1\n",
      "\tSwitch Chr RAZU01000235.1\n",
      "\tSwitch Chr RAZU01000099.1\n",
      "\tSwitch Chr RAZU01000100.1\n",
      "\tSwitch Chr RAZU01000055.1\n",
      "\tSwitch Chr RAZU01000166.1\n",
      "\tSwitch Chr RAZU01000056.1\n",
      "\tSwitch Chr RAZU01001825.1\n",
      "\tSwitch Chr RAZU01000167.1\n",
      "\tSwitch Chr RAZU01000168.1\n",
      "\tSwitch Chr RAZU01000103.1\n",
      "\tSwitch Chr RAZU01000265.1\n",
      "\tSwitch Chr RAZU01000267.1\n",
      "\tSwitch Chr RAZU01000061.1\n",
      "\tSwitch Chr RAZU01000145.1\n",
      "\tSwitch Chr RAZU01000063.1\n",
      "\tSwitch Chr RAZU01000064.1\n",
      "\tSwitch Chr RAZU01000170.1\n",
      "\tSwitch Chr RAZU01000269.1\n",
      "\tSwitch Chr RAZU01000069.1\n",
      "\tSwitch Chr RAZU01000272.1\n",
      "\tSwitch Chr RAZU01000109.1\n",
      "\tSwitch Chr RAZU01000077.1\n",
      "\tSwitch Chr RAZU01000229.1\n",
      "\tSwitch Chr RAZU01000011.1\n",
      "\tSwitch Chr RAZU01000013.1\n",
      "\tSwitch Chr RAZU01000151.1\n",
      "\tSwitch Chr RAZU01000185.1\n",
      "\tSwitch Chr RAZU01000018.1\n",
      "\tSwitch Chr RAZU01000124.1\n",
      "\tSwitch Chr RAZU01000027.1\n",
      "\tSwitch Chr RAZU01001334.1\n",
      "\tSwitch Chr RAZU01001373.1\n",
      "\tSwitch Chr RAZU01001395.1\n",
      "\tSwitch Chr RAZU01000663.1\n",
      "\tSwitch Chr RAZU01000913.1\n",
      "\tSwitch Chr 4_0cdhfr_vrc01wtg1m3_dgv\n",
      "Finalizing  ..\n",
      "\tprocessing merged TRA\n",
      "Writing to /home/jupyter-isac/Data/sv\n",
      "Merging 1 temporary files\n",
      "Cleaning\n",
      "Done\n"
     ]
    }
   ],
   "source": [
    "svdir=$workdir/sv\n",
    "[ -e $svdir ]||mkdir $svdir\n",
    "bam=$workdir/bam/$sample.minimap2.sorted.bam\n",
    "vcftmp=$svdir/$sample.minimap2.sniffles.unsorted.vcf\n",
    "vcf=$svdir/$sample.minimap2.sniffles.sorted.vcf\n",
    "sniffles -m $bam -v $vcftmp -t $threads \\\n",
    "    --tmp_file $vcf.tmp \\\n",
    "    -s 2 \n",
    "bcftools sort -o $vcf -T $svdir $vcftmp\n",
    "rm $vcftmp"
   ]
  },
  {
   "cell_type": "code",
   "execution_count": 8,
   "metadata": {},
   "outputs": [
    {
     "name": "stdout",
     "output_type": "stream",
     "text": [
      "\u001b[33mBuilding DAG of jobs...\u001b[0m\n",
      "\u001b[33mUsing shell: /bin/bash\u001b[0m\n",
      "\u001b[33mProvided cores: 12\u001b[0m\n",
      "\u001b[33mRules claiming more threads will be scaled down.\u001b[0m\n",
      "\u001b[33mJob counts:\n",
      "\tcount\tjobs\n",
      "\t1\tsniffles_sv\n",
      "\t1\tsort_vcf\n",
      "\t2\u001b[0m\n",
      "\u001b[32m\u001b[0m\n",
      "\u001b[32m[Sun Oct 27 17:30:24 2019]\u001b[0m\n",
      "\u001b[32mrule sniffles_sv:\n",
      "    input: /home/jupyter-isac/Data_tmp/bam/CHOK1IgG.minimap2.sorted.bam\n",
      "    output: /home/jupyter-isac/Data_tmp/sv/CHOK1IgG.minimap2.sniffles.unsorted.vcf\n",
      "    log: /home/jupyter-isac/Data_tmp/sv/CHOK1IgG.minimap2.sniffles.log\n",
      "    jobid: 1\n",
      "    wildcards: dir=/home/jupyter-isac/Data_tmp, sample=CHOK1IgG.minimap2\n",
      "    threads: 12\u001b[0m\n",
      "\u001b[32m\u001b[0m\n",
      "\u001b[33msniffles -m /home/jupyter-isac/Data_tmp/bam/CHOK1IgG.minimap2.sorted.bam -v /home/jupyter-isac/Data_tmp/sv/CHOK1IgG.minimap2.sniffles.unsorted.vcf -t 12 --tmp_file /home/jupyter-isac/Data_tmp/sv/CHOK1IgG.minimap2.sniffles.tmp -s 2  &> /home/jupyter-isac/Data_tmp/sv/CHOK1IgG.minimap2.sniffles.log\u001b[0m\n",
      "\u001b[32m[Sun Oct 27 17:30:26 2019]\u001b[0m\n",
      "\u001b[32mFinished job 1.\u001b[0m\n",
      "\u001b[32m1 of 2 steps (50%) done\u001b[0m\n",
      "\u001b[32m\u001b[0m\n",
      "\u001b[32m[Sun Oct 27 17:30:26 2019]\u001b[0m\n",
      "\u001b[32mrule sort_vcf:\n",
      "    input: /home/jupyter-isac/Data_tmp/sv/CHOK1IgG.minimap2.sniffles.unsorted.vcf\n",
      "    output: /home/jupyter-isac/Data_tmp/sv/CHOK1IgG.minimap2.sniffles.sorted.vcf\n",
      "    jobid: 0\n",
      "    wildcards: dir=/home/jupyter-isac/Data_tmp, sample=CHOK1IgG.minimap2.sniffles\u001b[0m\n",
      "\u001b[32m\u001b[0m\n",
      "\u001b[33mbcftools sort -o /home/jupyter-isac/Data_tmp/sv/CHOK1IgG.minimap2.sniffles.sorted.vcf -T /home/jupyter-isac/Data_tmp/sv /home/jupyter-isac/Data_tmp/sv/CHOK1IgG.minimap2.sniffles.unsorted.vcf\u001b[0m\n",
      "Writing to /home/jupyter-isac/Data_tmp/sv\n",
      "Merging 1 temporary files\n",
      "Cleaning\n",
      "Done\n",
      "\u001b[33mRemoving temporary output file /home/jupyter-isac/Data_tmp/sv/CHOK1IgG.minimap2.sniffles.unsorted.vcf.\u001b[0m\n",
      "\u001b[32m[Sun Oct 27 17:30:26 2019]\u001b[0m\n",
      "\u001b[32mFinished job 0.\u001b[0m\n",
      "\u001b[32m2 of 2 steps (100%) done\u001b[0m\n",
      "\u001b[33mComplete log: /home/jupyter-isac/ambic-epigenome-dev/.snakemake/log/2019-10-27T173024.178493.snakemake.log\u001b[0m\n"
     ]
    }
   ],
   "source": [
    "vcf=$workdir/sv/$sample.minimap2.sniffles.sorted.vcf\n",
    "rm $vcf\n",
    "snakemake -j 12 -p $vcf"
   ]
  },
  {
   "cell_type": "code",
   "execution_count": 9,
   "metadata": {},
   "outputs": [
    {
     "name": "stdout",
     "output_type": "stream",
     "text": [
      "-rw-r--r-- 1 jupyter-isac jupyter-isac 114K Oct 27 17:30 /home/jupyter-isac/Data_tmp/sv/CHOK1IgG.minimap2.sniffles.sorted.vcf\n"
     ]
    }
   ],
   "source": [
    "ls -lh $vcf"
   ]
  },
  {
   "cell_type": "markdown",
   "metadata": {},
   "source": [
    "#### merge calls"
   ]
  },
  {
   "cell_type": "code",
   "execution_count": 26,
   "metadata": {},
   "outputs": [
    {
     "name": "stdout",
     "output_type": "stream",
     "text": [
      "merging entries: 103\n",
      "merging entries: 27\n"
     ]
    }
   ],
   "source": [
    "vcfs=$(find $workdir/sv -name \"*sniffles.sorted.vcf\")\n",
    "raw=$workdir/sv/raw_calls.txt\n",
    "merged=$workdir/sv/SURVIVOR_merged_1kbpdist_typesave.vcf\n",
    "echo $vcfs | tr \" \" \"\\n\" > $raw\n",
    "SURVIVOR merge $raw 1000 1 1 -1 -1 -1 $merged"
   ]
  },
  {
   "cell_type": "code",
   "execution_count": 28,
   "metadata": {},
   "outputs": [
    {
     "name": "stdout",
     "output_type": "stream",
     "text": [
      "\u001b[33mBuilding DAG of jobs...\u001b[0m\n",
      "\u001b[33mNothing to be done.\u001b[0m\n",
      "\u001b[33mComplete log: /home/jupyter-isac/ambic-epigenome-dev/.snakemake/log/2019-10-27T181442.997799.snakemake.log\u001b[0m\n"
     ]
    }
   ],
   "source": [
    "merged=sv/SURVIVOR_merged_1kbpdist_typesave.vcf\n",
    "snakemake -j 12 -p $merged"
   ]
  },
  {
   "cell_type": "markdown",
   "metadata": {},
   "source": [
    "#### force calls for SVs in merged calls"
   ]
  },
  {
   "cell_type": "code",
   "execution_count": 30,
   "metadata": {},
   "outputs": [
    {
     "name": "stdout",
     "output_type": "stream",
     "text": [
      "Automatically enabling genotype mode\n",
      "Force calling SVs\n",
      "Estimating parameter...\n",
      "\tMax dist between aln events: 5\n",
      "\tMax diff in window: 50\n",
      "\tMin score ratio: 2\n",
      "\tAvg DEL ratio: 0.080656\n",
      "\tAvg INS ratio: 0.0416317\n",
      "Construct Tree...\n",
      "\t\t93 SVs found in input.\n",
      "\tInvalid types found skipping 0 entries.\n",
      "Start parsing: Chr RAZU01000074.1\n",
      "\tSwitch Chr RAZU01000102.1\n",
      "\tSwitch Chr RAZU01000002.1\n",
      "\tSwitch Chr 4_0cdhfr_vrc01wtg1m3_dgv\n",
      "Finalizing  ..\n",
      "Start phasing: \n",
      "\tCleaning tmp files\n",
      "Start genotype calling:\n",
      "\tConstruct tree\n",
      "\tUpdate reference alleles\n",
      "\t\tScanning CHR RAZU01000102.1\n",
      "\t\tScanning CHR RAZU01000002.1\n",
      "\t\tScanning CHR 4_0cdhfr_vrc01wtg1m3_dgv\n",
      "\tWriting SV calls\n",
      "\tCleaning tmp files\n"
     ]
    }
   ],
   "source": [
    "bam=$workdir/bam/$sample.minimap2.sorted.bam\n",
    "merged=$workdir/sv/SURVIVOR_merged_1kbpdist_typesave.vcf\n",
    "vcftmp=$workdir/sv/$sample.SURVIVOR.unsorted.vcf\n",
    "vcf=$workdir/sv/$sample.SURVIVOR.sorted.vcf\n",
    "sniffles -m $bam -v $vcf -t $threads \\\n",
    "    --Ivcf $merged --tmp_file \\\n",
    "    $workdir/sv/$samp.SURVIVORsniffles.tmp \\\n",
    "    -s 2 -n -1 --genotype --cluster"
   ]
  },
  {
   "cell_type": "code",
   "execution_count": null,
   "metadata": {},
   "outputs": [],
   "source": [
    "raw=sv/SURVIVORsniffles_calls.txt\n",
    "vcf=sv/merged_final_SURVIVOR_1kbpdist_typesave.vcf\n",
    "echo {input} | tr \\\" \\\" \\\"\\\\n\\\" > {output.raw}\n",
    "SURVIVOR merge {output.raw} 1000 -1 1 -1 -1 -1 {output.vcf}"
   ]
  },
  {
   "cell_type": "code",
   "execution_count": 12,
   "metadata": {},
   "outputs": [
    {
     "name": "stdout",
     "output_type": "stream",
     "text": [
      "\u001b[33mBuilding DAG of jobs...\u001b[0m\n",
      "\u001b[33mUsing shell: /bin/bash\u001b[0m\n",
      "\u001b[33mProvided cores: 12\u001b[0m\n",
      "\u001b[33mRules claiming more threads will be scaled down.\u001b[0m\n",
      "\u001b[33mJob counts:\n",
      "\tcount\tjobs\n",
      "\t1\tmerge_sv_before_forcecall\n",
      "\t1\tmerge_sv_final\n",
      "\t2\tminimap2_align\n",
      "\t2\tsniffles_sv\n",
      "\t2\tsniffles_sv_forcecall\n",
      "\t4\tsort_vcf\n",
      "\t12\u001b[0m\n",
      "\u001b[32m\u001b[0m\n",
      "\u001b[32m[Mon Oct 28 01:18:52 2019]\u001b[0m\n",
      "\u001b[32mrule minimap2_align:\n",
      "    input: /mnt/ref/Cricetulus_griseus_picr.CriGri-PICR.dna.toplevel.nihIgG.map_ont.mmi, reads/CHOK1IgG.fastq.gz\n",
      "    output: bam/CHOK1IgG.minimap2.sorted.bam\n",
      "    log: bam/CHOK1IgG.minimap2.align.log\n",
      "    jobid: 5\n",
      "    wildcards: sample=CHOK1IgG\n",
      "    threads: 12\u001b[0m\n",
      "\u001b[32m\u001b[0m\n",
      "\u001b[32m[Mon Oct 28 01:19:07 2019]\u001b[0m\n",
      "\u001b[32mFinished job 5.\u001b[0m\n",
      "\u001b[32m1 of 12 steps (8%) done\u001b[0m\n",
      "\u001b[32m\u001b[0m\n",
      "\u001b[32m[Mon Oct 28 01:19:07 2019]\u001b[0m\n",
      "\u001b[32mrule minimap2_align:\n",
      "    input: /mnt/ref/Cricetulus_griseus_picr.CriGri-PICR.dna.toplevel.nihIgG.map_ont.mmi, reads/CHOK1host.fastq.gz\n",
      "    output: bam/CHOK1host.minimap2.sorted.bam\n",
      "    log: bam/CHOK1host.minimap2.align.log\n",
      "    jobid: 7\n",
      "    wildcards: sample=CHOK1host\n",
      "    threads: 12\u001b[0m\n",
      "\u001b[32m\u001b[0m\n",
      "\u001b[32m[Mon Oct 28 01:19:17 2019]\u001b[0m\n",
      "\u001b[32mFinished job 7.\u001b[0m\n",
      "\u001b[32m2 of 12 steps (17%) done\u001b[0m\n",
      "\u001b[32m\u001b[0m\n",
      "\u001b[32m[Mon Oct 28 01:19:17 2019]\u001b[0m\n",
      "\u001b[32mrule sniffles_sv:\n",
      "    input: bam/CHOK1IgG.minimap2.sorted.bam\n",
      "    output: sv/CHOK1IgG.minimap2.sniffles.unsorted.vcf\n",
      "    log: sv/CHOK1IgG.minimap2.sniffles.log\n",
      "    jobid: 11\n",
      "    wildcards: sample=CHOK1IgG.minimap2\n",
      "    threads: 12\u001b[0m\n",
      "\u001b[32m\u001b[0m\n",
      "\u001b[32m[Mon Oct 28 01:19:19 2019]\u001b[0m\n",
      "\u001b[32mFinished job 11.\u001b[0m\n",
      "\u001b[32m3 of 12 steps (25%) done\u001b[0m\n",
      "\u001b[32m\u001b[0m\n",
      "\u001b[32m[Mon Oct 28 01:19:19 2019]\u001b[0m\n",
      "\u001b[32mrule sort_vcf:\n",
      "    input: sv/CHOK1IgG.minimap2.sniffles.unsorted.vcf\n",
      "    output: sv/CHOK1IgG.minimap2.sniffles.sorted.vcf\n",
      "    jobid: 9\n",
      "    wildcards: sample=CHOK1IgG.minimap2.sniffles\u001b[0m\n",
      "\u001b[32m\u001b[0m\n",
      "Writing to sv\n",
      "Merging 1 temporary files\n",
      "Cleaning\n",
      "Done\n",
      "\u001b[33mRemoving temporary output file sv/CHOK1IgG.minimap2.sniffles.unsorted.vcf.\u001b[0m\n",
      "\u001b[32m[Mon Oct 28 01:19:19 2019]\u001b[0m\n",
      "\u001b[32mFinished job 9.\u001b[0m\n",
      "\u001b[32m4 of 12 steps (33%) done\u001b[0m\n",
      "\u001b[32m\u001b[0m\n",
      "\u001b[32m[Mon Oct 28 01:19:19 2019]\u001b[0m\n",
      "\u001b[32mrule sniffles_sv:\n",
      "    input: bam/CHOK1host.minimap2.sorted.bam\n",
      "    output: sv/CHOK1host.minimap2.sniffles.unsorted.vcf\n",
      "    log: sv/CHOK1host.minimap2.sniffles.log\n",
      "    jobid: 12\n",
      "    wildcards: sample=CHOK1host.minimap2\n",
      "    threads: 12\u001b[0m\n",
      "\u001b[32m\u001b[0m\n",
      "\u001b[32m[Mon Oct 28 01:19:20 2019]\u001b[0m\n",
      "\u001b[32mFinished job 12.\u001b[0m\n",
      "\u001b[32m5 of 12 steps (42%) done\u001b[0m\n",
      "\u001b[32m\u001b[0m\n",
      "\u001b[32m[Mon Oct 28 01:19:20 2019]\u001b[0m\n",
      "\u001b[32mrule sort_vcf:\n",
      "    input: sv/CHOK1host.minimap2.sniffles.unsorted.vcf\n",
      "    output: sv/CHOK1host.minimap2.sniffles.sorted.vcf\n",
      "    jobid: 10\n",
      "    wildcards: sample=CHOK1host.minimap2.sniffles\u001b[0m\n",
      "\u001b[32m\u001b[0m\n",
      "Writing to sv\n",
      "Merging 1 temporary files\n",
      "Cleaning\n",
      "Done\n",
      "\u001b[33mRemoving temporary output file sv/CHOK1host.minimap2.sniffles.unsorted.vcf.\u001b[0m\n",
      "\u001b[32m[Mon Oct 28 01:19:20 2019]\u001b[0m\n",
      "\u001b[32mFinished job 10.\u001b[0m\n",
      "\u001b[32m6 of 12 steps (50%) done\u001b[0m\n",
      "\u001b[32m\u001b[0m\n",
      "\u001b[32m[Mon Oct 28 01:19:20 2019]\u001b[0m\n",
      "\u001b[32mrule merge_sv_before_forcecall:\n",
      "    input: sv/CHOK1IgG.minimap2.sniffles.sorted.vcf, sv/CHOK1host.minimap2.sniffles.sorted.vcf\n",
      "    output: sv/raw_calls.txt, sv/SURVIVOR_merged_1kbpdist_typesave.vcf\n",
      "    jobid: 6\u001b[0m\n",
      "\u001b[32m\u001b[0m\n",
      "merging entries: 111\n",
      "merging entries: 35\n",
      "\u001b[33mRemoving temporary output file sv/raw_calls.txt.\u001b[0m\n",
      "\u001b[32m[Mon Oct 28 01:19:20 2019]\u001b[0m\n",
      "\u001b[32mFinished job 6.\u001b[0m\n",
      "\u001b[32m7 of 12 steps (58%) done\u001b[0m\n",
      "\u001b[32m\u001b[0m\n",
      "\u001b[32m[Mon Oct 28 01:19:20 2019]\u001b[0m\n",
      "\u001b[32mrule sniffles_sv_forcecall:\n",
      "    input: bam/CHOK1IgG.minimap2.sorted.bam, sv/SURVIVOR_merged_1kbpdist_typesave.vcf\n",
      "    output: sv/CHOK1IgG.minimap2.SURVIVOR.unsorted.vcf\n",
      "    log: sv/CHOK1IgG.minimap2.SURVIVORsniffles.log\n",
      "    jobid: 3\n",
      "    wildcards: sample=CHOK1IgG.minimap2\n",
      "    threads: 12\u001b[0m\n",
      "\u001b[32m\u001b[0m\n",
      "\u001b[32m[Mon Oct 28 01:19:23 2019]\u001b[0m\n",
      "\u001b[32mFinished job 3.\u001b[0m\n",
      "\u001b[32m8 of 12 steps (67%) done\u001b[0m\n",
      "\u001b[32m\u001b[0m\n",
      "\u001b[32m[Mon Oct 28 01:19:23 2019]\u001b[0m\n",
      "\u001b[32mrule sort_vcf:\n",
      "    input: sv/CHOK1IgG.minimap2.SURVIVOR.unsorted.vcf\n",
      "    output: sv/CHOK1IgG.minimap2.SURVIVOR.sorted.vcf\n",
      "    jobid: 1\n",
      "    wildcards: sample=CHOK1IgG.minimap2.SURVIVOR\u001b[0m\n",
      "\u001b[32m\u001b[0m\n",
      "Writing to sv\n",
      "Merging 1 temporary files\n",
      "Cleaning\n",
      "Done\n",
      "\u001b[33mRemoving temporary output file sv/CHOK1IgG.minimap2.SURVIVOR.unsorted.vcf.\u001b[0m\n",
      "\u001b[32m[Mon Oct 28 01:19:23 2019]\u001b[0m\n",
      "\u001b[32mFinished job 1.\u001b[0m\n",
      "\u001b[32m9 of 12 steps (75%) done\u001b[0m\n",
      "\u001b[32m\u001b[0m\n",
      "\u001b[32m[Mon Oct 28 01:19:23 2019]\u001b[0m\n",
      "\u001b[32mrule sniffles_sv_forcecall:\n",
      "    input: bam/CHOK1host.minimap2.sorted.bam, sv/SURVIVOR_merged_1kbpdist_typesave.vcf\n",
      "    output: sv/CHOK1host.minimap2.SURVIVOR.unsorted.vcf\n",
      "    log: sv/CHOK1host.minimap2.SURVIVORsniffles.log\n",
      "    jobid: 4\n",
      "    wildcards: sample=CHOK1host.minimap2\n",
      "    threads: 12\u001b[0m\n",
      "\u001b[32m\u001b[0m\n",
      "\u001b[32m[Mon Oct 28 01:19:23 2019]\u001b[0m\n",
      "\u001b[32mFinished job 4.\u001b[0m\n",
      "\u001b[32m10 of 12 steps (83%) done\u001b[0m\n",
      "\u001b[32m\u001b[0m\n",
      "\u001b[32m[Mon Oct 28 01:19:23 2019]\u001b[0m\n",
      "\u001b[32mrule sort_vcf:\n",
      "    input: sv/CHOK1host.minimap2.SURVIVOR.unsorted.vcf\n",
      "    output: sv/CHOK1host.minimap2.SURVIVOR.sorted.vcf\n",
      "    jobid: 2\n",
      "    wildcards: sample=CHOK1host.minimap2.SURVIVOR\u001b[0m\n",
      "\u001b[32m\u001b[0m\n",
      "Writing to sv\n",
      "Merging 1 temporary files\n",
      "Cleaning\n",
      "Done\n",
      "\u001b[33mRemoving temporary output file sv/CHOK1host.minimap2.SURVIVOR.unsorted.vcf.\u001b[0m\n",
      "\u001b[32m[Mon Oct 28 01:19:23 2019]\u001b[0m\n",
      "\u001b[32mFinished job 2.\u001b[0m\n",
      "\u001b[32m11 of 12 steps (92%) done\u001b[0m\n",
      "\u001b[32m\u001b[0m\n",
      "\u001b[32m[Mon Oct 28 01:19:23 2019]\u001b[0m\n",
      "\u001b[32mrule merge_sv_final:\n",
      "    input: sv/CHOK1IgG.minimap2.SURVIVOR.sorted.vcf, sv/CHOK1host.minimap2.SURVIVOR.sorted.vcf\n",
      "    output: sv/SURVIVORsniffles_calls.txt, sv/merged_final_SURVIVOR_1kbpdist_typesave.vcf\n",
      "    jobid: 0\u001b[0m\n",
      "\u001b[32m\u001b[0m\n",
      "merging entries: 91\n",
      "merging entries: 91\n",
      "\u001b[32m[Mon Oct 28 01:19:23 2019]\u001b[0m\n",
      "\u001b[32mFinished job 0.\u001b[0m\n",
      "\u001b[32m12 of 12 steps (100%) done\u001b[0m\n",
      "\u001b[33mComplete log: /home/jupyter-isac/ambic-epigenome-dev/.snakemake/log/2019-10-28T011852.431417.snakemake.log\u001b[0m\n"
     ]
    }
   ],
   "source": [
    "vcf_final=sv/merged_final_SURVIVOR_1kbpdist_typesave.vcf\n",
    "snakemake -j 12 $vcf_final"
   ]
  },
  {
   "cell_type": "code",
   "execution_count": 13,
   "metadata": {},
   "outputs": [
    {
     "name": "stdout",
     "output_type": "stream",
     "text": [
      "1/1:NA:6208924:4,19:++:.:TRA:9_0:NA:NA:RAZU01000002.1_6220834-4_0cdhfr_vrc01wtg1m3_dgv_11910\t0/0:NA:6208924:2,0:++:.:TRA:9:NA:NA:RAZU01000002.1_6220834-4_0cdhfr_vrc01wtg1m3_dgv_11910\n",
      "0/1:NA:7778025:2,4:--:.:TRA:26_0:NA:NA:RAZU01000002.1_7778043-4_0cdhfr_vrc01wtg1m3_dgv_18\t./.:NA:7778025:0,0:--:.:TRA:26:NA:NA:RAZU01000002.1_7778043-4_0cdhfr_vrc01wtg1m3_dgv_18\n",
      "0/1:NA:7784350:7,21:++:.:TRA:33_5:NA:NA:RAZU01000002.1_7795913-4_0cdhfr_vrc01wtg1m3_dgv_11563\t0/0:NA:7784350:1,0:++:.:TRA:50:NA:NA:RAZU01000002.1_7795913-4_0cdhfr_vrc01wtg1m3_dgv_11563\n",
      "0/1:NA:20003502:2,4:+-:.:TRA:0_1:NA:NA:RAZU01000102.1_20003514-4_0cdhfr_vrc01wtg1m3_dgv_12\t0/0:NA:20003502:1,0:+-:.:TRA:1:NA:NA:RAZU01000102.1_20003514-4_0cdhfr_vrc01wtg1m3_dgv_12\n",
      "0/1:NA:19993742:1,2:-+:.:TRA:2:NA:NA:RAZU01000102.1_20005831-4_0cdhfr_vrc01wtg1m3_dgv_12089\t0/0:NA:19993742:1,0:-+:.:TRA:2:NA:NA:RAZU01000102.1_20005831-4_0cdhfr_vrc01wtg1m3_dgv_12089\n"
     ]
    }
   ],
   "source": [
    "grep \"=TRA\" $workdir/$vcf_final | cut -f 10,11"
   ]
  },
  {
   "cell_type": "markdown",
   "metadata": {},
   "source": [
    "## Metylation calling\n",
    "We use nanopolish for methylation calling \n",
    "### nanopolish index\n",
    "First step is to index the reads"
   ]
  },
  {
   "cell_type": "code",
   "execution_count": 55,
   "metadata": {},
   "outputs": [
    {
     "name": "stdout",
     "output_type": "stream",
     "text": [
      "[readdb] indexing /home/jupyter-isac/Data/reads/CHOK1IgG\n",
      "[readdb] num reads: 1567, num reads with path to fast5: 1567\n"
     ]
    }
   ],
   "source": [
    "rdir=$workdir/reads/CHOK1IgG\n",
    "fq=$workdir/reads/CHOK1IgG.fastq.gz\n",
    "nanopolish index -d $rdir $fq\n",
    "\n",
    "rdir=$workdir/reads/CHOK1host\n",
    "fq=$workdir/reads/CHOK1host.fastq.gz\n",
    "nanopolish index -d $rdir $fq"
   ]
  },
  {
   "cell_type": "code",
   "execution_count": 14,
   "metadata": {},
   "outputs": [
    {
     "name": "stdout",
     "output_type": "stream",
     "text": [
      "\u001b[33mBuilding DAG of jobs...\u001b[0m\n",
      "\u001b[33mUsing shell: /bin/bash\u001b[0m\n",
      "\u001b[33mProvided cores: 1\u001b[0m\n",
      "\u001b[33mRules claiming more threads will be scaled down.\u001b[0m\n",
      "\u001b[33mJob counts:\n",
      "\tcount\tjobs\n",
      "\t1\tnanopolish_index\n",
      "\t1\u001b[0m\n",
      "\u001b[32m\u001b[0m\n",
      "\u001b[32m[Mon Oct 28 01:42:21 2019]\u001b[0m\n",
      "\u001b[32mrule nanopolish_index:\n",
      "    input: reads/CHOK1IgG.fastq.gz\n",
      "    output: reads/CHOK1IgG.fastq.gz.index.readdb\n",
      "    jobid: 0\n",
      "    wildcards: pre=reads/CHOK1IgG\u001b[0m\n",
      "\u001b[32m\u001b[0m\n",
      "\u001b[32m[Mon Oct 28 01:42:22 2019]\u001b[0m\n",
      "\u001b[32mFinished job 0.\u001b[0m\n",
      "\u001b[32m1 of 1 steps (100%) done\u001b[0m\n",
      "\u001b[33mComplete log: /home/jupyter-isac/ambic-epigenome-dev/.snakemake/log/2019-10-28T014221.120652.snakemake.log\u001b[0m\n",
      "\u001b[33mBuilding DAG of jobs...\u001b[0m\n",
      "\u001b[33mUsing shell: /bin/bash\u001b[0m\n",
      "\u001b[33mProvided cores: 1\u001b[0m\n",
      "\u001b[33mRules claiming more threads will be scaled down.\u001b[0m\n",
      "\u001b[33mJob counts:\n",
      "\tcount\tjobs\n",
      "\t1\tnanopolish_index\n",
      "\t1\u001b[0m\n",
      "\u001b[32m\u001b[0m\n",
      "\u001b[32m[Mon Oct 28 01:42:23 2019]\u001b[0m\n",
      "\u001b[32mrule nanopolish_index:\n",
      "    input: reads/CHOK1host.fastq.gz\n",
      "    output: reads/CHOK1host.fastq.gz.index.readdb\n",
      "    jobid: 0\n",
      "    wildcards: pre=reads/CHOK1host\u001b[0m\n",
      "\u001b[32m\u001b[0m\n",
      "\u001b[32m[Mon Oct 28 01:42:23 2019]\u001b[0m\n",
      "\u001b[32mFinished job 0.\u001b[0m\n",
      "\u001b[32m1 of 1 steps (100%) done\u001b[0m\n",
      "\u001b[33mComplete log: /home/jupyter-isac/ambic-epigenome-dev/.snakemake/log/2019-10-28T014223.108592.snakemake.log\u001b[0m\n"
     ]
    }
   ],
   "source": [
    "output=reads/CHOK1IgG.fastq.gz.index.readdb\n",
    "snakemake $output\n",
    "output=reads/CHOK1host.fastq.gz.index.readdb\n",
    "snakemake $output"
   ]
  },
  {
   "cell_type": "code",
   "execution_count": 15,
   "metadata": {},
   "outputs": [
    {
     "name": "stdout",
     "output_type": "stream",
     "text": [
      "total 42M\n",
      "drwxr-xr-x 2 jupyter-isac jupyter-isac 480K Oct 28 01:18 CHOK1IgG\n",
      "-rw-r--r-- 1 jupyter-isac jupyter-isac  25M Oct 28 01:18 CHOK1IgG.fastq.gz\n",
      "-rw-r--r-- 1 jupyter-isac jupyter-isac 7.3M Oct 28 01:42 CHOK1IgG.fastq.gz.index\n",
      "-rw-r--r-- 1 jupyter-isac jupyter-isac 193K Oct 28 01:42 CHOK1IgG.fastq.gz.index.fai\n",
      "-rw-r--r-- 1 jupyter-isac jupyter-isac 6.4K Oct 28 01:42 CHOK1IgG.fastq.gz.index.gzi\n",
      "-rw-r--r-- 1 jupyter-isac jupyter-isac 471K Oct 28 01:42 CHOK1IgG.fastq.gz.index.readdb\n",
      "-rw-r--r-- 1 jupyter-isac jupyter-isac   94 Oct 28 01:42 CHOK1IgG.index.log\n",
      "-rw-r--r-- 1 jupyter-isac jupyter-isac 582K Oct 28 01:18 CHOK1IgG.readdb\n",
      "drwxr-xr-x 2 jupyter-isac jupyter-isac 124K Oct 28 01:18 CHOK1host\n",
      "-rw-r--r-- 1 jupyter-isac jupyter-isac 5.9M Oct 28 01:18 CHOK1host.fastq.gz\n",
      "-rw-r--r-- 1 jupyter-isac jupyter-isac 1.8M Oct 28 01:42 CHOK1host.fastq.gz.index\n",
      "-rw-r--r-- 1 jupyter-isac jupyter-isac  52K Oct 28 01:42 CHOK1host.fastq.gz.index.fai\n",
      "-rw-r--r-- 1 jupyter-isac jupyter-isac 1.6K Oct 28 01:42 CHOK1host.fastq.gz.index.gzi\n",
      "-rw-r--r-- 1 jupyter-isac jupyter-isac 126K Oct 28 01:42 CHOK1host.fastq.gz.index.readdb\n",
      "-rw-r--r-- 1 jupyter-isac jupyter-isac   93 Oct 28 01:42 CHOK1host.index.log\n",
      "-rw-r--r-- 1 jupyter-isac jupyter-isac 156K Oct 28 01:18 CHOK1host.readdb\n"
     ]
    }
   ],
   "source": [
    "ls -lh $workdir/reads"
   ]
  },
  {
   "cell_type": "markdown",
   "metadata": {},
   "source": [
    "### call methylation"
   ]
  },
  {
   "cell_type": "code",
   "execution_count": 58,
   "metadata": {},
   "outputs": [
    {
     "name": "stdout",
     "output_type": "stream",
     "text": [
      "[post-run summary] total reads: 6388, unparseable: 0, qc fail: 1, could not calibrate: 3, no alignment: 867, bad fast5: 0\n"
     ]
    }
   ],
   "source": [
    "outdir=$workdir/methylation\n",
    "[ -e $outdir ]||mkdir $outdir\n",
    "\n",
    "sample=CHOK1IgG\n",
    "fastq=$workdir/reads/$sample.fastq.gz\n",
    "bam=$workdir/bam/$sample.minimap2.sorted.bam\n",
    "output=$outdir/$sample.cpg.meth.tsv.gz\n",
    "\n",
    "nanopolish call-methylation -v -t ${threads} -q cpg \\\n",
    "    -g $reference -r $fastq -b $bam |\\\n",
    "    gzip > $output"
   ]
  },
  {
   "cell_type": "code",
   "execution_count": 20,
   "metadata": {},
   "outputs": [
    {
     "name": "stdout",
     "output_type": "stream",
     "text": [
      "\u001b[33mBuilding DAG of jobs...\u001b[0m\n",
      "\u001b[33mUsing shell: /bin/bash\u001b[0m\n",
      "\u001b[33mProvided cores: 12\u001b[0m\n",
      "\u001b[33mRules claiming more threads will be scaled down.\u001b[0m\n",
      "\u001b[33mJob counts:\n",
      "\tcount\tjobs\n",
      "\t1\tcall_cpg\n",
      "\t1\u001b[0m\n",
      "\u001b[32m\u001b[0m\n",
      "\u001b[32m[Mon Oct 28 02:02:36 2019]\u001b[0m\n",
      "\u001b[32mrule call_cpg:\n",
      "    input: reads/CHOK1IgG.fastq.gz, bam/CHOK1IgG.minimap2.sorted.bam, reads/CHOK1IgG.fastq.gz.index.readdb\n",
      "    output: methylation/CHOK1IgG.cpg.meth.tsv.gz\n",
      "    jobid: 0\n",
      "    wildcards: sample=CHOK1IgG\n",
      "    threads: 12\u001b[0m\n",
      "\u001b[32m\u001b[0m\n",
      "\u001b[33mnanopolish call-methylation -v -t 12 -q cpg -g /mnt/ref/Cricetulus_griseus_picr.CriGri-PICR.dna.toplevel.nihIgG.fa -r reads/CHOK1IgG.fastq.gz -b bam/CHOK1IgG.minimap2.sorted.bam | gzip > methylation/CHOK1IgG.cpg.meth.tsv.gz\u001b[0m\n",
      "[post-run summary] total reads: 8112, unparseable: 0, qc fail: 1, could not calibrate: 4, no alignment: 977, bad fast5: 0\n",
      "\u001b[32m[Mon Oct 28 02:04:14 2019]\u001b[0m\n",
      "\u001b[32mFinished job 0.\u001b[0m\n",
      "\u001b[32m1 of 1 steps (100%) done\u001b[0m\n",
      "\u001b[33mComplete log: /home/jupyter-isac/ambic-epigenome-dev/.snakemake/log/2019-10-28T020236.086467.snakemake.log\u001b[0m\n",
      "\u001b[33mBuilding DAG of jobs...\u001b[0m\n",
      "\u001b[33mUsing shell: /bin/bash\u001b[0m\n",
      "\u001b[33mProvided cores: 12\u001b[0m\n",
      "\u001b[33mRules claiming more threads will be scaled down.\u001b[0m\n",
      "\u001b[33mJob counts:\n",
      "\tcount\tjobs\n",
      "\t1\tcall_cpg\n",
      "\t1\u001b[0m\n",
      "\u001b[32m\u001b[0m\n",
      "\u001b[32m[Mon Oct 28 02:04:15 2019]\u001b[0m\n",
      "\u001b[32mrule call_cpg:\n",
      "    input: reads/CHOK1host.fastq.gz, bam/CHOK1host.minimap2.sorted.bam, reads/CHOK1host.fastq.gz.index.readdb\n",
      "    output: methylation/CHOK1host.cpg.meth.tsv.gz\n",
      "    jobid: 0\n",
      "    wildcards: sample=CHOK1host\n",
      "    threads: 12\u001b[0m\n",
      "\u001b[32m\u001b[0m\n",
      "\u001b[33mnanopolish call-methylation -v -t 12 -q cpg -g /mnt/ref/Cricetulus_griseus_picr.CriGri-PICR.dna.toplevel.nihIgG.fa -r reads/CHOK1host.fastq.gz -b bam/CHOK1host.minimap2.sorted.bam | gzip > methylation/CHOK1host.cpg.meth.tsv.gz\u001b[0m\n",
      "[post-run summary] total reads: 1106, unparseable: 0, qc fail: 0, could not calibrate: 0, no alignment: 103, bad fast5: 0\n",
      "\u001b[32m[Mon Oct 28 02:04:21 2019]\u001b[0m\n",
      "\u001b[32mFinished job 0.\u001b[0m\n",
      "\u001b[32m1 of 1 steps (100%) done\u001b[0m\n",
      "\u001b[33mComplete log: /home/jupyter-isac/ambic-epigenome-dev/.snakemake/log/2019-10-28T020414.972347.snakemake.log\u001b[0m\n"
     ]
    }
   ],
   "source": [
    "rm $workdir/methylation/*\n",
    "sample=CHOK1IgG\n",
    "output=methylation/$sample.cpg.meth.tsv.gz\n",
    "snakemake -j $threads -p $output\n",
    "\n",
    "sample=CHOK1host\n",
    "output=methylation/$sample.cpg.meth.tsv.gz\n",
    "snakemake -j $threads -p $output"
   ]
  },
  {
   "cell_type": "code",
   "execution_count": 24,
   "metadata": {},
   "outputs": [
    {
     "name": "stdout",
     "output_type": "stream",
     "text": [
      "total 4.9M\n",
      "-rw-r--r-- 1 jupyter-isac jupyter-isac 3.8M Oct 28 02:04 CHOK1IgG.cpg.meth.tsv.gz\n",
      "-rw-r--r-- 1 jupyter-isac jupyter-isac 1.1M Oct 28 02:04 CHOK1host.cpg.meth.tsv.gz\n"
     ]
    }
   ],
   "source": [
    "ls -lh $workdir/methylation"
   ]
  },
  {
   "cell_type": "markdown",
   "metadata": {},
   "source": [
    "#### make methylation bed files"
   ]
  },
  {
   "cell_type": "code",
   "execution_count": 32,
   "metadata": {},
   "outputs": [
    {
     "name": "stdout",
     "output_type": "stream",
     "text": [
      "\u001b[33mBuilding DAG of jobs...\u001b[0m\n",
      "\u001b[33mNothing to be done.\u001b[0m\n",
      "\u001b[33mComplete log: /home/jupyter-isac/ambic-epigenome-dev/.snakemake/log/2019-10-28T021700.217936.snakemake.log\u001b[0m\n",
      "\u001b[33mBuilding DAG of jobs...\u001b[0m\n",
      "\u001b[33mUsing shell: /bin/bash\u001b[0m\n",
      "\u001b[33mProvided cores: 1\u001b[0m\n",
      "\u001b[33mRules claiming more threads will be scaled down.\u001b[0m\n",
      "\u001b[33mJob counts:\n",
      "\tcount\tjobs\n",
      "\t1\tmtsv_to_mbed\n",
      "\t1\u001b[0m\n",
      "\u001b[32m\u001b[0m\n",
      "\u001b[32m[Mon Oct 28 02:17:01 2019]\u001b[0m\n",
      "\u001b[32mrule mtsv_to_mbed:\n",
      "    input: methylation/CHOK1host.cpg.meth.tsv.gz, /mnt/ref/Cricetulus_griseus_picr.CriGri-PICR.dna.toplevel.nihIgG.fa\n",
      "    output: methylation/CHOK1host.cpg.meth.bed.gz\n",
      "    jobid: 0\n",
      "    wildcards: sample=CHOK1host\u001b[0m\n",
      "\u001b[32m\u001b[0m\n",
      "\u001b[32m[Mon Oct 28 02:17:13 2019]\u001b[0m\n",
      "\u001b[32mFinished job 0.\u001b[0m\n",
      "\u001b[32m1 of 1 steps (100%) done\u001b[0m\n",
      "\u001b[33mComplete log: /home/jupyter-isac/ambic-epigenome-dev/.snakemake/log/2019-10-28T021700.817836.snakemake.log\u001b[0m\n"
     ]
    }
   ],
   "source": [
    "sample=CHOK1IgG\n",
    "mbed=methylation/$sample.cpg.meth.bed.gz\n",
    "snakemake $mbed\n",
    "sample=CHOK1host\n",
    "mbed=methylation/$sample.cpg.meth.bed.gz\n",
    "snakemake $mbed"
   ]
  },
  {
   "cell_type": "markdown",
   "metadata": {},
   "source": [
    "#### make methylation frequency files"
   ]
  },
  {
   "cell_type": "code",
   "execution_count": 36,
   "metadata": {},
   "outputs": [
    {
     "name": "stdout",
     "output_type": "stream",
     "text": [
      "\u001b[33mBuilding DAG of jobs...\u001b[0m\n",
      "\u001b[33mNothing to be done.\u001b[0m\n",
      "\u001b[33mComplete log: /home/jupyter-isac/ambic-epigenome-dev/.snakemake/log/2019-10-28T022732.044701.snakemake.log\u001b[0m\n",
      "\u001b[33mBuilding DAG of jobs...\u001b[0m\n",
      "\u001b[33mUsing shell: /bin/bash\u001b[0m\n",
      "\u001b[33mProvided cores: 1\u001b[0m\n",
      "\u001b[33mRules claiming more threads will be scaled down.\u001b[0m\n",
      "\u001b[33mJob counts:\n",
      "\tcount\tjobs\n",
      "\t1\tmbed_to_mfreq\n",
      "\t1\u001b[0m\n",
      "\u001b[32m\u001b[0m\n",
      "\u001b[32m[Mon Oct 28 02:27:32 2019]\u001b[0m\n",
      "\u001b[32mrule mbed_to_mfreq:\n",
      "    input: methylation/CHOK1host.cpg.meth.bed.gz\n",
      "    output: methylation/CHOK1host.cpg.mfreq.txt.gz\n",
      "    log: methylation/CHOK1host.cpg.mfreq.log\n",
      "    jobid: 0\n",
      "    wildcards: sample=CHOK1host, mod=cpg\u001b[0m\n",
      "\u001b[32m\u001b[0m\n",
      "\u001b[32m[Mon Oct 28 02:27:33 2019]\u001b[0m\n",
      "\u001b[32mFinished job 0.\u001b[0m\n",
      "\u001b[32m1 of 1 steps (100%) done\u001b[0m\n",
      "\u001b[33mComplete log: /home/jupyter-isac/ambic-epigenome-dev/.snakemake/log/2019-10-28T022732.628517.snakemake.log\u001b[0m\n"
     ]
    }
   ],
   "source": [
    "sample=CHOK1IgG\n",
    "mfreq=methylation/$sample.cpg.mfreq.txt.gz\n",
    "snakemake $mfreq\n",
    "\n",
    "sample=CHOK1host\n",
    "mfreq=methylation/$sample.cpg.mfreq.txt.gz\n",
    "snakemake $mfreq"
   ]
  },
  {
   "cell_type": "markdown",
   "metadata": {},
   "source": [
    "#### make methylation bam"
   ]
  },
  {
   "cell_type": "code",
   "execution_count": 41,
   "metadata": {},
   "outputs": [
    {
     "name": "stdout",
     "output_type": "stream",
     "text": [
      "\u001b[33mBuilding DAG of jobs...\u001b[0m\n",
      "\u001b[33mUsing shell: /bin/bash\u001b[0m\n",
      "\u001b[33mProvided cores: 12\u001b[0m\n",
      "\u001b[33mRules claiming more threads will be scaled down.\u001b[0m\n",
      "\u001b[33mJob counts:\n",
      "\tcount\tjobs\n",
      "\t1\tbam_methylation\n",
      "\t1\u001b[0m\n",
      "\u001b[32m\u001b[0m\n",
      "\u001b[32m[Mon Oct 28 03:12:04 2019]\u001b[0m\n",
      "\u001b[32mrule bam_methylation:\n",
      "    input: methylation/CHOK1host.cpg.meth.bed.gz, bam/CHOK1host.minimap2.sorted.bam\n",
      "    output: methylation/CHOK1host.cpg.meth.bam\n",
      "    jobid: 0\n",
      "    wildcards: sample=CHOK1host\n",
      "    threads: 12\u001b[0m\n",
      "\u001b[32m\u001b[0m\n",
      "\u001b[32m[Mon Oct 28 03:12:07 2019]\u001b[0m\n",
      "\u001b[32mFinished job 0.\u001b[0m\n",
      "\u001b[32m1 of 1 steps (100%) done\u001b[0m\n",
      "\u001b[33mComplete log: /home/jupyter-isac/ambic-epigenome-dev/.snakemake/log/2019-10-28T031204.137443.snakemake.log\u001b[0m\n",
      "\u001b[33mBuilding DAG of jobs...\u001b[0m\n",
      "\u001b[33mUsing shell: /bin/bash\u001b[0m\n",
      "\u001b[33mProvided cores: 12\u001b[0m\n",
      "\u001b[33mRules claiming more threads will be scaled down.\u001b[0m\n",
      "\u001b[33mJob counts:\n",
      "\tcount\tjobs\n",
      "\t1\tbam_methylation\n",
      "\t1\u001b[0m\n",
      "\u001b[32m\u001b[0m\n",
      "\u001b[32m[Mon Oct 28 03:12:08 2019]\u001b[0m\n",
      "\u001b[32mrule bam_methylation:\n",
      "    input: methylation/CHOK1IgG.cpg.meth.bed.gz, bam/CHOK1IgG.minimap2.sorted.bam\n",
      "    output: methylation/CHOK1IgG.cpg.meth.bam\n",
      "    jobid: 0\n",
      "    wildcards: sample=CHOK1IgG\n",
      "    threads: 12\u001b[0m\n",
      "\u001b[32m\u001b[0m\n",
      "\u001b[32m[Mon Oct 28 03:12:26 2019]\u001b[0m\n",
      "\u001b[32mFinished job 0.\u001b[0m\n",
      "\u001b[32m1 of 1 steps (100%) done\u001b[0m\n",
      "\u001b[33mComplete log: /home/jupyter-isac/ambic-epigenome-dev/.snakemake/log/2019-10-28T031207.967594.snakemake.log\u001b[0m\n"
     ]
    }
   ],
   "source": [
    "sample=CHOK1host\n",
    "outbam=methylation/$sample.cpg.meth.bam\n",
    "snakemake -j $threads $outbam\n",
    "\n",
    "sample=CHOK1IgG\n",
    "outbam=methylation/$sample.cpg.meth.bam\n",
    "snakemake -j $threads $outbam"
   ]
  },
  {
   "cell_type": "code",
   "execution_count": 42,
   "metadata": {},
   "outputs": [
    {
     "name": "stdout",
     "output_type": "stream",
     "text": [
      "CHOK1IgG.cpg.meth.bam          CHOK1host.cpg.meth.bam\n",
      "CHOK1IgG.cpg.meth.bam.bai      CHOK1host.cpg.meth.bam.bai\n",
      "CHOK1IgG.cpg.meth.bed.gz       CHOK1host.cpg.meth.bed.gz\n",
      "CHOK1IgG.cpg.meth.bed.gz.tbi   CHOK1host.cpg.meth.bed.gz.tbi\n",
      "CHOK1IgG.cpg.meth.tsv.gz       CHOK1host.cpg.meth.tsv.gz\n",
      "CHOK1IgG.cpg.mfreq.log         CHOK1host.cpg.mfreq.log\n",
      "CHOK1IgG.cpg.mfreq.txt.gz      CHOK1host.cpg.mfreq.txt.gz\n",
      "CHOK1IgG.cpg.mfreq.txt.gz.tbi  CHOK1host.cpg.mfreq.txt.gz.tbi\n"
     ]
    }
   ],
   "source": [
    "ls $workdir/methylation"
   ]
  },
  {
   "cell_type": "code",
   "execution_count": null,
   "metadata": {},
   "outputs": [],
   "source": []
  }
 ],
 "metadata": {
  "kernelspec": {
   "display_name": "Bash",
   "language": "bash",
   "name": "bash"
  },
  "language_info": {
   "codemirror_mode": "shell",
   "file_extension": ".sh",
   "mimetype": "text/x-sh",
   "name": "bash"
  }
 },
 "nbformat": 4,
 "nbformat_minor": 4
}
