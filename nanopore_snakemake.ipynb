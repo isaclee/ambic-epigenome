{
 "cells": [
  {
   "cell_type": "markdown",
   "metadata": {},
   "source": [
    "# Analyzing nanopore sequencing data for AMBIC"
   ]
  },
  {
   "cell_type": "markdown",
   "metadata": {},
   "source": [
    "## Set up\n",
    "Necessary softwares should be installed already in here.  \n",
    "They are described in README.md as well as   \n",
    "I made a snakemake pipeline for ease of use - I will go through each step using commands as well as snakemake."
   ]
  },
  {
   "cell_type": "code",
   "execution_count": 57,
   "metadata": {},
   "outputs": [],
   "source": [
    "# first set working directory\n",
    "workdir=~/Data\n",
    "codedir=$PWD\n",
    "reference=/mnt/ref/4_0cdhfr_vrc01wtg1m3_dgv.fa\n",
    "reference=/mnt/ref/Cricetulus_griseus_picr.CriGri-PICR.dna.toplevel.nihIgG.fa\n",
    "threads=12\n",
    "sample=CHOK1IgG"
   ]
  },
  {
   "cell_type": "markdown",
   "metadata": {},
   "source": [
    "## Alignment\n",
    "There are two main aligners we use for nanopore analysis : minimap2 and ngmlr\n",
    "### minimap2\n",
    "First make index"
   ]
  },
  {
   "cell_type": "code",
   "execution_count": 11,
   "metadata": {},
   "outputs": [],
   "source": [
    "mmi=${reference%.fa}.map_ont.mmi\n",
    "if [ ! -e $mmi ]; then\n",
    "    minimap2 -x map-ont -d $mmi $reference\n",
    "fi"
   ]
  },
  {
   "cell_type": "code",
   "execution_count": 12,
   "metadata": {},
   "outputs": [
    {
     "name": "stdout",
     "output_type": "stream",
     "text": [
      "-rw-r--r-- 1 jupyter-isac jupyter-isac 5.6G Oct 23 11:59 /mnt/ref/Cricetulus_griseus_picr.CriGri-PICR.dna.toplevel.nihIgG.map_ont.mmi\n"
     ]
    }
   ],
   "source": [
    "ls -lh $mmi"
   ]
  },
  {
   "cell_type": "markdown",
   "metadata": {},
   "source": [
    "Then align"
   ]
  },
  {
   "cell_type": "code",
   "execution_count": 32,
   "metadata": {},
   "outputs": [],
   "source": [
    "[ -e bam ]||mkdir bam\n",
    "fq=$workdir/reads/$sample.fastq.gz\n",
    "outpre=$workdir/bam/$sample.minimap2\n",
    "output=$outpre.sorted.bam\n",
    "minimap2 --MD -L -t $threads -a $mmi ${fq} |\\\n",
    "    samtools view -q 20 -b - |\\\n",
    "    samtools sort -T $outpre.sorting -o ${output} &&\\\n",
    "    samtools index ${output}"
   ]
  },
  {
   "cell_type": "markdown",
   "metadata": {},
   "source": [
    "snakemake version :"
   ]
  },
  {
   "cell_type": "code",
   "execution_count": 43,
   "metadata": {},
   "outputs": [
    {
     "name": "stdout",
     "output_type": "stream",
     "text": [
      "rm: cannot remove '/home/jupyter-isac/Data/bam/*': No such file or directory\n",
      "\u001b[33mBuilding DAG of jobs...\u001b[0m\n",
      "\u001b[33mUsing shell: /bin/bash\u001b[0m\n",
      "\u001b[33mProvided cores: 1\u001b[0m\n",
      "\u001b[33mRules claiming more threads will be scaled down.\u001b[0m\n",
      "\u001b[33mJob counts:\n",
      "\tcount\tjobs\n",
      "\t1\tminimap2_align\n",
      "\t1\u001b[0m\n",
      "\u001b[32m\u001b[0m\n",
      "\u001b[32m[Wed Oct 23 13:34:50 2019]\u001b[0m\n",
      "\u001b[32mrule minimap2_align:\n",
      "    input: /mnt/ref/Cricetulus_griseus_picr.CriGri-PICR.dna.toplevel.nihIgG.map_ont.mmi, /home/jupyter-isac/Data/reads/CHOK1IgG.fastq.gz\n",
      "    output: /home/jupyter-isac/Data/bam/CHOK1IgG.minimap2.sorted.bam\n",
      "    log: /home/jupyter-isac/Data/bam/CHOK1IgG.minimap2.align.log\n",
      "    jobid: 0\n",
      "    wildcards: dir=/home/jupyter-isac/Data, sample=CHOK1IgG\u001b[0m\n",
      "\u001b[32m\u001b[0m\n",
      "\u001b[32m[Wed Oct 23 13:35:15 2019]\u001b[0m\n",
      "\u001b[32mFinished job 0.\u001b[0m\n",
      "\u001b[32m1 of 1 steps (100%) done\u001b[0m\n",
      "\u001b[33mComplete log: /home/jupyter-isac/ambic-epigenome-dev/.snakemake/log/2019-10-23T133450.598278.snakemake.log\u001b[0m\n"
     ]
    }
   ],
   "source": [
    "rm $workdir/bam/*\n",
    "output=$workdir/bam/$sample.minimap2.sorted.bam\n",
    "snakemake $output"
   ]
  },
  {
   "cell_type": "code",
   "execution_count": 45,
   "metadata": {},
   "outputs": [
    {
     "name": "stdout",
     "output_type": "stream",
     "text": [
      "total 18M\n",
      "-rw-r--r-- 1 jupyter-isac jupyter-isac  639 Oct 23 13:35 CHOK1IgG.minimap2.align.log\n",
      "-rw-r--r-- 1 jupyter-isac jupyter-isac  17M Oct 23 13:35 CHOK1IgG.minimap2.sorted.bam\n",
      "-rw-r--r-- 1 jupyter-isac jupyter-isac 680K Oct 23 13:35 CHOK1IgG.minimap2.sorted.bam.bai\n"
     ]
    }
   ],
   "source": [
    "ls -lh $workdir/bam"
   ]
  },
  {
   "cell_type": "markdown",
   "metadata": {},
   "source": [
    "### ngmlr"
   ]
  },
  {
   "cell_type": "markdown",
   "metadata": {},
   "source": [
    "## Metylation calling\n",
    "We use nanopolish for methylation calling \n",
    "### nanopolish index\n",
    "First step is to index the reads"
   ]
  },
  {
   "cell_type": "code",
   "execution_count": 55,
   "metadata": {},
   "outputs": [
    {
     "name": "stdout",
     "output_type": "stream",
     "text": [
      "[readdb] indexing /home/jupyter-isac/Data/reads/CHOK1IgG\n",
      "[readdb] num reads: 1567, num reads with path to fast5: 1567\n"
     ]
    }
   ],
   "source": [
    "rdir=$workdir/reads/$sample\n",
    "nanopolish index -d $rdir $rdir.fastq.gz"
   ]
  },
  {
   "cell_type": "code",
   "execution_count": 52,
   "metadata": {},
   "outputs": [
    {
     "name": "stdout",
     "output_type": "stream",
     "text": [
      "\u001b[33mBuilding DAG of jobs...\u001b[0m\n",
      "\u001b[33mUsing shell: /bin/bash\u001b[0m\n",
      "\u001b[33mProvided cores: 1\u001b[0m\n",
      "\u001b[33mRules claiming more threads will be scaled down.\u001b[0m\n",
      "\u001b[33mJob counts:\n",
      "\tcount\tjobs\n",
      "\t1\tnanopolish_index\n",
      "\t1\u001b[0m\n",
      "\u001b[32m\u001b[0m\n",
      "\u001b[32m[Wed Oct 23 13:56:06 2019]\u001b[0m\n",
      "\u001b[32mrule nanopolish_index:\n",
      "    input: /home/jupyter-isac/Data/reads/CHOK1IgG.fastq.gz\n",
      "    output: /home/jupyter-isac/Data/reads/CHOK1IgG.fastq.gz.index.readdb\n",
      "    jobid: 0\n",
      "    wildcards: pre=/home/jupyter-isac/Data/reads/CHOK1IgG\u001b[0m\n",
      "\u001b[32m\u001b[0m\n",
      "\u001b[32m[Wed Oct 23 13:56:07 2019]\u001b[0m\n",
      "\u001b[32mFinished job 0.\u001b[0m\n",
      "\u001b[32m1 of 1 steps (100%) done\u001b[0m\n",
      "\u001b[33mComplete log: /home/jupyter-isac/ambic-epigenome-dev/.snakemake/log/2019-10-23T135606.367563.snakemake.log\u001b[0m\n"
     ]
    }
   ],
   "source": [
    "output=$rdir.fastq.gz.index.readdb\n",
    "rm $output\n",
    "snakemake $output"
   ]
  },
  {
   "cell_type": "code",
   "execution_count": 54,
   "metadata": {},
   "outputs": [
    {
     "name": "stdout",
     "output_type": "stream",
     "text": [
      "total 13M\n",
      "drwxr-xr-x 2 jupyter-isac root         4.0K Oct 22 18:28 CHOK1IgG\n",
      "-rw-r--r-- 1 jupyter-isac root         9.6M Oct 22 18:28 CHOK1IgG.fastq.gz\n",
      "-rw-r--r-- 1 jupyter-isac jupyter-isac 2.8M Oct 23 13:56 CHOK1IgG.fastq.gz.index\n",
      "-rw-r--r-- 1 jupyter-isac jupyter-isac  91K Oct 23 13:56 CHOK1IgG.fastq.gz.index.fai\n",
      "-rw-r--r-- 1 jupyter-isac jupyter-isac 2.5K Oct 23 13:56 CHOK1IgG.fastq.gz.index.gzi\n",
      "-rw-r--r-- 1 jupyter-isac jupyter-isac 140K Oct 23 13:56 CHOK1IgG.fastq.gz.index.readdb\n",
      "-rw-r--r-- 1 jupyter-isac jupyter-isac  118 Oct 23 13:56 CHOK1IgG.index.log\n"
     ]
    }
   ],
   "source": [
    "ls -lh $workdir/reads"
   ]
  },
  {
   "cell_type": "markdown",
   "metadata": {},
   "source": [
    "### call methylation\n"
   ]
  },
  {
   "cell_type": "code",
   "execution_count": 58,
   "metadata": {},
   "outputs": [
    {
     "name": "stdout",
     "output_type": "stream",
     "text": [
      "[post-run summary] total reads: 6388, unparseable: 0, qc fail: 1, could not calibrate: 3, no alignment: 867, bad fast5: 0\n"
     ]
    }
   ],
   "source": [
    "fastq=$workdir/reads/$sample.fastq.gz\n",
    "bam=$workdir/bam/$sample.minimap2.sorted.bam\n",
    "outdir=$workdir/mcall\n",
    "[ -e $outdir ]||mkdir $outdir\n",
    "output=$outdir/$sample.cpg.meth.tsv.gz\n",
    "nanopolish call-methylation -v -t ${threads} -q cpg \\\n",
    "    -g $reference -r $fastq -b $bam |\\\n",
    "    gzip > $output"
   ]
  },
  {
   "cell_type": "code",
   "execution_count": 63,
   "metadata": {},
   "outputs": [
    {
     "name": "stdout",
     "output_type": "stream",
     "text": [
      "rm: cannot remove '/home/jupyter-isac/Data/mcall/*': No such file or directory\n",
      "\u001b[33mBuilding DAG of jobs...\u001b[0m\n",
      "\u001b[33mUsing shell: /bin/bash\u001b[0m\n",
      "\u001b[33mProvided cores: 12\u001b[0m\n",
      "\u001b[33mRules claiming more threads will be scaled down.\u001b[0m\n",
      "\u001b[33mJob counts:\n",
      "\tcount\tjobs\n",
      "\t1\tcall_cpg\n",
      "\t1\u001b[0m\n",
      "\u001b[32m\u001b[0m\n",
      "\u001b[32m[Wed Oct 23 14:21:46 2019]\u001b[0m\n",
      "\u001b[32mrule call_cpg:\n",
      "    input: /home/jupyter-isac/Data/reads/CHOK1IgG.fastq.gz, /home/jupyter-isac/Data/bam/CHOK1IgG.minimap2.sorted.bam, /home/jupyter-isac/Data/reads/CHOK1IgG.fastq.gz.index.readdb\n",
      "    output: /home/jupyter-isac/Data/mcall/CHOK1IgG.cpg.meth.tsv.gz\n",
      "    jobid: 0\n",
      "    wildcards: dir=/home/jupyter-isac/Data, sample=CHOK1IgG\n",
      "    threads: 12\u001b[0m\n",
      "\u001b[32m\u001b[0m\n",
      "\u001b[33mnanopolish call-methylation -v -t 12 -q cpg -g /mnt/ref/Cricetulus_griseus_picr.CriGri-PICR.dna.toplevel.nihIgG.fa -r /home/jupyter-isac/Data/reads/CHOK1IgG.fastq.gz -b /home/jupyter-isac/Data/bam/CHOK1IgG.minimap2.sorted.bam | gzip > /home/jupyter-isac/Data/mcall/CHOK1IgG.cpg.meth.tsv.gz\u001b[0m\n",
      "[post-run summary] total reads: 6384, unparseable: 0, qc fail: 1, could not calibrate: 3, no alignment: 867, bad fast5: 0\n",
      "\u001b[32m[Wed Oct 23 14:23:15 2019]\u001b[0m\n",
      "\u001b[32mFinished job 0.\u001b[0m\n",
      "\u001b[32m1 of 1 steps (100%) done\u001b[0m\n",
      "\u001b[33mComplete log: /home/jupyter-isac/ambic-epigenome-dev/.snakemake/log/2019-10-23T142146.278016.snakemake.log\u001b[0m\n"
     ]
    }
   ],
   "source": [
    "rm $workdir/mcall/*\n",
    "snakemake -j $threads -p $output"
   ]
  },
  {
   "cell_type": "code",
   "execution_count": 64,
   "metadata": {},
   "outputs": [
    {
     "name": "stdout",
     "output_type": "stream",
     "text": [
      "total 1.3M\n",
      "-rw-r--r-- 1 jupyter-isac jupyter-isac 1.3M Oct 23 14:23 CHOK1IgG.cpg.meth.tsv.gz\n"
     ]
    }
   ],
   "source": [
    "ls -lh $workdir/mcall"
   ]
  },
  {
   "cell_type": "code",
   "execution_count": null,
   "metadata": {},
   "outputs": [],
   "source": []
  }
 ],
 "metadata": {
  "kernelspec": {
   "display_name": "Bash",
   "language": "bash",
   "name": "bash"
  },
  "language_info": {
   "codemirror_mode": "shell",
   "file_extension": ".sh",
   "mimetype": "text/x-sh",
   "name": "bash"
  }
 },
 "nbformat": 4,
 "nbformat_minor": 4
}
