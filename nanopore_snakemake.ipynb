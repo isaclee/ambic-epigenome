{
 "cells": [
  {
   "cell_type": "markdown",
   "metadata": {},
   "source": [
    "# Analyzing nanopore sequencing data for AMBIC"
   ]
  },
  {
   "cell_type": "markdown",
   "metadata": {},
   "source": [
    "## Installing dependencies"
   ]
  },
  {
   "cell_type": "code",
   "execution_count": null,
   "metadata": {},
   "outputs": [],
   "source": [
    "# using conda environment"
   ]
  },
  {
   "cell_type": "markdown",
   "metadata": {},
   "source": [
    "Analysis pipeline is written as a snakemake pipeline."
   ]
  },
  {
   "cell_type": "code",
   "execution_count": 9,
   "metadata": {},
   "outputs": [
    {
     "name": "stdout",
     "output_type": "stream",
     "text": [
      "bash: fg: %%python: no such job\n",
      "bash: syntax error near unexpected token `\"hi\"'\n"
     ]
    },
    {
     "ename": "",
     "evalue": "2",
     "output_type": "error",
     "traceback": []
    }
   ],
   "source": [
    "%%python \n",
    "print(\"hi\")\n",
    "#%%writefile nanopore.config\n",
    "#root: /home/isac/Data/ambic/nih"
   ]
  },
  {
   "cell_type": "code",
   "execution_count": 7,
   "metadata": {},
   "outputs": [
    {
     "name": "stdout",
     "output_type": "stream",
     "text": [
      "\u001b[0m\u001b[38;5;30manalysis\u001b[0m                  \u001b[38;5;41mnanopore_snakemake.ipynb\u001b[0m  \u001b[38;5;30msnakemake\u001b[0m\n",
      "\u001b[38;5;78matacseq_sample_info.csv\u001b[0m   \u001b[38;5;184mREADME.md\u001b[0m                 \u001b[38;5;178msnakemake_config.yml\u001b[0m\n",
      "\u001b[38;5;30mdag\u001b[0m                       \u001b[38;5;30mscripts\u001b[0m                   \u001b[38;5;30msnakemake_old\u001b[0m\n",
      "\u001b[38;5;78mnanopore_sample_info.csv\u001b[0m  \u001b[0mSnakefile\u001b[0m\n"
     ]
    }
   ],
   "source": [
    "ls"
   ]
  },
  {
   "cell_type": "code",
   "execution_count": null,
   "metadata": {},
   "outputs": [],
   "source": []
  }
 ],
 "metadata": {
  "kernelspec": {
   "display_name": "Bash",
   "language": "bash",
   "name": "bash"
  },
  "language_info": {
   "codemirror_mode": "shell",
   "file_extension": ".sh",
   "mimetype": "text/x-sh",
   "name": "bash"
  }
 },
 "nbformat": 4,
 "nbformat_minor": 4
}
